{
 "cells": [
  {
   "cell_type": "code",
   "execution_count": 1,
   "metadata": {},
   "outputs": [
    {
     "name": "stderr",
     "output_type": "stream",
     "text": [
      "c:\\Users\\karim\\AppData\\Local\\Programs\\Python\\Python312\\Lib\\site-packages\\tqdm\\auto.py:21: TqdmWarning: IProgress not found. Please update jupyter and ipywidgets. See https://ipywidgets.readthedocs.io/en/stable/user_install.html\n",
      "  from .autonotebook import tqdm as notebook_tqdm\n"
     ]
    }
   ],
   "source": [
    "import streamlit as st \n",
    "from transformers import AutoTokenizer, AutoModelForCausalLM"
   ]
  },
  {
   "cell_type": "code",
   "execution_count": 2,
   "metadata": {},
   "outputs": [],
   "source": [
    "@st.cache_resource\n",
    "def load_model_and_tokenizer(model_path):\n",
    "    tokenizer = AutoTokenizer.from_pretrained(model_path)\n",
    "    model = AutoModelForCausalLM.from_pretrained(model_path)\n",
    "    return tokenizer, model"
   ]
  },
  {
   "cell_type": "code",
   "execution_count": null,
   "metadata": {},
   "outputs": [],
   "source": [
    "model_path = r\"I:\\Chatbot_Task\\Results\"\n",
    "tokenizer, model = load_model_and_tokenizer(model_path)"
   ]
  },
  {
   "cell_type": "code",
   "execution_count": 4,
   "metadata": {},
   "outputs": [],
   "source": [
    "# Define the inference function\n",
    "def single_inference(question):\n",
    "    messages = [\n",
    "        {\"role\": \"system\", \"content\": \"اجب علي الاتي بالعربي فقط.\"},\n",
    "    ]\n",
    "    messages.append({\"role\": \"user\", \"content\": question})\n",
    "\n",
    "    input_ids = tokenizer.apply_chat_template(\n",
    "        messages,\n",
    "        add_generation_prompt=True,\n",
    "        return_tensors=\"pt\"\n",
    "    ).to(model.device)\n",
    "\n",
    "    terminators = [\n",
    "        tokenizer.eos_token_id,\n",
    "        tokenizer.convert_tokens_to_ids(\"<|eot_id|>\")\n",
    "    ]\n",
    "\n",
    "    outputs = model.generate(\n",
    "        input_ids,\n",
    "        max_new_tokens=256,\n",
    "        eos_token_id=terminators,\n",
    "        do_sample=True,\n",
    "        temperature=0.4,\n",
    "    )\n",
    "    response = outputs[0][input_ids.shape[-1]:]\n",
    "    output = tokenizer.decode(response, skip_special_tokens=True)\n",
    "    return output"
   ]
  },
  {
   "cell_type": "code",
   "execution_count": 5,
   "metadata": {},
   "outputs": [
    {
     "name": "stderr",
     "output_type": "stream",
     "text": [
      "2024-11-20 13:20:09.394 Thread 'MainThread': missing ScriptRunContext! This warning can be ignored when running in bare mode.\n",
      "2024-11-20 13:20:09.395 Thread 'MainThread': missing ScriptRunContext! This warning can be ignored when running in bare mode.\n",
      "2024-11-20 13:20:09.396 Thread 'MainThread': missing ScriptRunContext! This warning can be ignored when running in bare mode.\n",
      "2024-11-20 13:20:09.397 Thread 'MainThread': missing ScriptRunContext! This warning can be ignored when running in bare mode.\n",
      "2024-11-20 13:20:09.398 Thread 'MainThread': missing ScriptRunContext! This warning can be ignored when running in bare mode.\n",
      "2024-11-20 13:20:09.399 Thread 'MainThread': missing ScriptRunContext! This warning can be ignored when running in bare mode.\n",
      "2024-11-20 13:20:09.401 Thread 'MainThread': missing ScriptRunContext! This warning can be ignored when running in bare mode.\n",
      "2024-11-20 13:20:09.401 Thread 'MainThread': missing ScriptRunContext! This warning can be ignored when running in bare mode.\n",
      "2024-11-20 13:20:09.402 Thread 'MainThread': missing ScriptRunContext! This warning can be ignored when running in bare mode.\n",
      "2024-11-20 13:20:09.403 Session state does not function when running a script without `streamlit run`\n",
      "2024-11-20 13:20:09.403 Thread 'MainThread': missing ScriptRunContext! This warning can be ignored when running in bare mode.\n",
      "2024-11-20 13:20:09.404 Thread 'MainThread': missing ScriptRunContext! This warning can be ignored when running in bare mode.\n",
      "2024-11-20 13:20:09.405 Thread 'MainThread': missing ScriptRunContext! This warning can be ignored when running in bare mode.\n",
      "2024-11-20 13:20:09.406 Thread 'MainThread': missing ScriptRunContext! This warning can be ignored when running in bare mode.\n",
      "2024-11-20 13:20:09.407 Thread 'MainThread': missing ScriptRunContext! This warning can be ignored when running in bare mode.\n",
      "2024-11-20 13:20:09.408 Thread 'MainThread': missing ScriptRunContext! This warning can be ignored when running in bare mode.\n",
      "2024-11-20 13:20:09.410 Thread 'MainThread': missing ScriptRunContext! This warning can be ignored when running in bare mode.\n",
      "2024-11-20 13:20:09.411 Thread 'MainThread': missing ScriptRunContext! This warning can be ignored when running in bare mode.\n",
      "2024-11-20 13:20:09.412 Thread 'MainThread': missing ScriptRunContext! This warning can be ignored when running in bare mode.\n",
      "2024-11-20 13:20:09.412 Thread 'MainThread': missing ScriptRunContext! This warning can be ignored when running in bare mode.\n",
      "2024-11-20 13:20:09.414 Thread 'MainThread': missing ScriptRunContext! This warning can be ignored when running in bare mode.\n",
      "2024-11-20 13:20:09.415 Thread 'MainThread': missing ScriptRunContext! This warning can be ignored when running in bare mode.\n",
      "2024-11-20 13:20:09.415 Thread 'MainThread': missing ScriptRunContext! This warning can be ignored when running in bare mode.\n",
      "2024-11-20 13:20:09.416 Thread 'MainThread': missing ScriptRunContext! This warning can be ignored when running in bare mode.\n",
      "2024-11-20 13:20:09.417 Thread 'MainThread': missing ScriptRunContext! This warning can be ignored when running in bare mode.\n",
      "2024-11-20 13:20:09.417 Thread 'MainThread': missing ScriptRunContext! This warning can be ignored when running in bare mode.\n",
      "2024-11-20 13:20:09.418 Thread 'MainThread': missing ScriptRunContext! This warning can be ignored when running in bare mode.\n",
      "2024-11-20 13:20:09.419 Thread 'MainThread': missing ScriptRunContext! This warning can be ignored when running in bare mode.\n",
      "2024-11-20 13:20:09.419 Thread 'MainThread': missing ScriptRunContext! This warning can be ignored when running in bare mode.\n",
      "2024-11-20 13:20:09.421 Thread 'MainThread': missing ScriptRunContext! This warning can be ignored when running in bare mode.\n",
      "2024-11-20 13:20:09.421 Thread 'MainThread': missing ScriptRunContext! This warning can be ignored when running in bare mode.\n"
     ]
    }
   ],
   "source": [
    "# Main Interface\n",
    "st.markdown(\n",
    "    \"\"\"\n",
    "    <style>\n",
    "    .chat-container {\n",
    "        background-color: #f0f2f6;\n",
    "        border-radius: 10px;\n",
    "        padding: 15px;\n",
    "        margin-bottom: 20px;\n",
    "    }\n",
    "    .chat-message {\n",
    "        margin: 10px 0;\n",
    "    }\n",
    "    .user {\n",
    "        color: white;\n",
    "        background-color: #007BFF;\n",
    "        border-radius: 10px;\n",
    "        padding: 10px;\n",
    "        text-align: left;\n",
    "        display: inline-block;\n",
    "    }\n",
    "    .bot {\n",
    "        color: black;\n",
    "        background-color: #e9ecef;\n",
    "        border-radius: 10px;\n",
    "        padding: 10px;\n",
    "        text-align: left;\n",
    "        display: inline-block;\n",
    "    }\n",
    "    </style>\n",
    "    \"\"\",\n",
    "    unsafe_allow_html=True,\n",
    ")\n",
    "\n",
    "st.title(\"Arabic Virtual Assistant 🤖\")\n",
    "st.write(\"Ask a question in Arabic and the chatbot will respond:\")\n",
    "\n",
    "# Conversation history\n",
    "if \"history\" not in st.session_state:\n",
    "    st.session_state.history = []\n",
    "\n",
    "# Input Area\n",
    "with st.form(key=\"chat_form\"):\n",
    "    question = st.text_area(\"Your Question (in Arabic):\", placeholder=\"مثال: كيف حالك اليوم؟\")\n",
    "    submit_button = st.form_submit_button(\"Get Answer\")\n",
    "\n",
    "# Display Conversation\n",
    "if st.session_state.history:\n",
    "    st.markdown('<div class=\"chat-container\">', unsafe_allow_html=True)\n",
    "    for i, (role, content) in enumerate(st.session_state.history):\n",
    "        class_name = \"user\" if role == \"user\" else \"bot\"\n",
    "        st.markdown(f'<div class=\"chat-message {class_name}\">{content}</div>', unsafe_allow_html=True)\n",
    "    st.markdown('</div>', unsafe_allow_html=True)\n",
    "\n",
    "# Handle Submit Button\n",
    "if submit_button:\n",
    "    if question.strip() == \"\":\n",
    "        st.warning(\"⚠️ Please enter a valid question in Arabic!\")\n",
    "    else:\n",
    "        # Append user input to the history\n",
    "        st.session_state.history.append((\"user\", question))\n",
    "        with st.spinner(\"🤔 Thinking...\"):\n",
    "            try:\n",
    "                answer = single_inference(question)\n",
    "                st.session_state.history.append((\"bot\", answer))\n",
    "            except Exception as e:\n",
    "                answer = \"❌ Sorry, an error occurred. Please try again later.\"\n",
    "                st.session_state.history.append((\"bot\", answer))\n",
    "        st.experimental_rerun()\n",
    "\n",
    "# Clear Conversation Button\n",
    "if st.button(\"Clear Conversation\"):\n",
    "    st.session_state.history = []\n",
    "    st.experimental_rerun()"
   ]
  },
  {
   "cell_type": "code",
   "execution_count": null,
   "metadata": {},
   "outputs": [],
   "source": []
  }
 ],
 "metadata": {
  "kernelspec": {
   "display_name": "Python 3",
   "language": "python",
   "name": "python3"
  },
  "language_info": {
   "codemirror_mode": {
    "name": "ipython",
    "version": 3
   },
   "file_extension": ".py",
   "mimetype": "text/x-python",
   "name": "python",
   "nbconvert_exporter": "python",
   "pygments_lexer": "ipython3",
   "version": "3.12.4"
  }
 },
 "nbformat": 4,
 "nbformat_minor": 2
}
